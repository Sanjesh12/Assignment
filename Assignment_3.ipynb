{
 "cells": [
  {
   "cell_type": "markdown",
   "id": "717c3364",
   "metadata": {},
   "source": [
    "# Assignment 3"
   ]
  },
  {
   "cell_type": "markdown",
   "id": "05a4fafc",
   "metadata": {},
   "source": [
    "1. Why are functions advantageous to have in your programs?"
   ]
  },
  {
   "cell_type": "code",
   "execution_count": null,
   "id": "849173e4",
   "metadata": {},
   "outputs": [],
   "source": [
    "1 Ans: A function is a block of reusable code that is used to perform a specific action. \n",
    "       The advantages of using functions are:\n",
    "    1) Reducing duplication of code\n",
    "    2) Decomposing complex problems into simpler pieces\n",
    "    3) Improving clarity of the code\n",
    "    4) Reuse of code\n",
    "    5) Information hiding"
   ]
  },
  {
   "cell_type": "markdown",
   "id": "ce6364d7",
   "metadata": {},
   "source": [
    " 2. When does the code in a function run: when it's specified or when it's called?"
   ]
  },
  {
   "cell_type": "code",
   "execution_count": null,
   "id": "aa808371",
   "metadata": {},
   "outputs": [],
   "source": [
    "2 Ans: The code in a function run when the function is called. It does not run    when the function is specified."
   ]
  },
  {
   "cell_type": "markdown",
   "id": "67067896",
   "metadata": {},
   "source": [
    "3. What statement creates a function?"
   ]
  },
  {
   "cell_type": "code",
   "execution_count": null,
   "id": "6e35904e",
   "metadata": {},
   "outputs": [],
   "source": [
    "3 Ans: A function is created with the def keyword. The statements in the block of the function must be indented.\n",
    "       def function():\n",
    "            pass\n",
    "\n",
    "    The def keyword is followed by the function name with round brackets and a colon. \n",
    "    The indented statements form a body of the function."
   ]
  },
  {
   "cell_type": "markdown",
   "id": "3a4b9fb1",
   "metadata": {},
   "source": [
    "4. What is the difference between a function and a function call?"
   ]
  },
  {
   "cell_type": "code",
   "execution_count": null,
   "id": "f94b1794",
   "metadata": {},
   "outputs": [],
   "source": [
    "4 Ans: The difference between the function and function call is, A function is procedure to achieve a particular result \n",
    "       while function call is using this function to achive that task."
   ]
  },
  {
   "cell_type": "markdown",
   "id": "8c157d89",
   "metadata": {},
   "source": [
    "5. How many global scopes are there in a Python program? How many local scopes?"
   ]
  },
  {
   "cell_type": "code",
   "execution_count": null,
   "id": "23fd54e8",
   "metadata": {},
   "outputs": [],
   "source": [
    "5 Ans: There is one global scope, and a local scope is created whenever a function is called."
   ]
  },
  {
   "cell_type": "markdown",
   "id": "f83b3c2e",
   "metadata": {},
   "source": [
    "6. What happens to variables in a local scope when the function call returns?"
   ]
  },
  {
   "cell_type": "code",
   "execution_count": null,
   "id": "cec86efd",
   "metadata": {},
   "outputs": [],
   "source": [
    "6 Ans: When a function returns, the local scope is destroyed, and all the variables in it are forgotten."
   ]
  },
  {
   "cell_type": "markdown",
   "id": "db68f9ad",
   "metadata": {},
   "source": [
    "7. What is the concept of a return value? Is it possible to have a return value in an expression?"
   ]
  },
  {
   "cell_type": "code",
   "execution_count": null,
   "id": "a31cd953",
   "metadata": {},
   "outputs": [],
   "source": [
    "7 Ans: A return value is the value that a function call evaluates to. Like any value, a return value can be \n",
    "       used as part of an expression."
   ]
  },
  {
   "cell_type": "markdown",
   "id": "90cafda6",
   "metadata": {},
   "source": [
    "8. If a function does not have a return statement, what is the return value of a call to that function?"
   ]
  },
  {
   "cell_type": "code",
   "execution_count": null,
   "id": "3aa5047d",
   "metadata": {},
   "outputs": [],
   "source": [
    "8 Ans: If a function does not have a return statement then the return value of a call to that function is None."
   ]
  },
  {
   "cell_type": "markdown",
   "id": "c061b961",
   "metadata": {},
   "source": [
    "9. How do you make a function variable refer to the global variable?"
   ]
  },
  {
   "cell_type": "code",
   "execution_count": null,
   "id": "7fae1e07",
   "metadata": {},
   "outputs": [],
   "source": [
    "9 Ans: If we want to refer to a global variable in a function, we can use the global keyword to declare which \n",
    "       variables are global."
   ]
  },
  {
   "cell_type": "markdown",
   "id": "5de61970",
   "metadata": {},
   "source": [
    "10. What is the data type of None?"
   ]
  },
  {
   "cell_type": "code",
   "execution_count": null,
   "id": "8ece4a48",
   "metadata": {},
   "outputs": [],
   "source": [
    "10 Ans: The data type of None is NoneType."
   ]
  },
  {
   "cell_type": "markdown",
   "id": "6a41b971",
   "metadata": {},
   "source": [
    "11. What does the sentence import areallyourpetsnamederic do?"
   ]
  },
  {
   "cell_type": "code",
   "execution_count": null,
   "id": "5f347ba7",
   "metadata": {},
   "outputs": [],
   "source": [
    "11 Ans: That import statement imports a module named areallyourpetsnamederic."
   ]
  },
  {
   "cell_type": "markdown",
   "id": "a1690e9a",
   "metadata": {},
   "source": [
    "12. If you had a bacon() feature in a spam module, what would you call it after importing spam?"
   ]
  },
  {
   "cell_type": "code",
   "execution_count": null,
   "id": "85a7faa0",
   "metadata": {},
   "outputs": [],
   "source": [
    "12 Ans: This function can be called with spam.bacon()."
   ]
  },
  {
   "cell_type": "markdown",
   "id": "57d7d362",
   "metadata": {},
   "source": [
    "13. What can you do to save a programme from crashing if it encounters an error?"
   ]
  },
  {
   "cell_type": "code",
   "execution_count": null,
   "id": "03ca560f",
   "metadata": {},
   "outputs": [],
   "source": [
    "13 Ans: Place the line of code that might cause an error in a try clause and use except block to handle the error."
   ]
  },
  {
   "cell_type": "markdown",
   "id": "3f68311e",
   "metadata": {},
   "source": [
    "14. What is the purpose of the try clause? What is the purpose of the except clause?"
   ]
  },
  {
   "cell_type": "code",
   "execution_count": null,
   "id": "40abca89",
   "metadata": {},
   "outputs": [],
   "source": [
    "14 Ans: The code that could potentially cause an error goes in the try clause. The code that executes if an error \n",
    "        happens goes in the except clause."
   ]
  }
 ],
 "metadata": {
  "kernelspec": {
   "display_name": "Python 3 (ipykernel)",
   "language": "python",
   "name": "python3"
  },
  "language_info": {
   "codemirror_mode": {
    "name": "ipython",
    "version": 3
   },
   "file_extension": ".py",
   "mimetype": "text/x-python",
   "name": "python",
   "nbconvert_exporter": "python",
   "pygments_lexer": "ipython3",
   "version": "3.9.7"
  }
 },
 "nbformat": 4,
 "nbformat_minor": 5
}
