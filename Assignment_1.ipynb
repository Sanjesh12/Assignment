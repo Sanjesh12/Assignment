{
 "cells": [
  {
   "cell_type": "code",
   "execution_count": null,
   "id": "11589c73",
   "metadata": {},
   "outputs": [],
   "source": [
    "1.) In the below elements which of them are values or an expression?\n",
    "    eg:- values can be integer or string and expressions will be \n",
    "    mathematical operators.\n",
    "*\n",
    "'hello'\n",
    "-87.8\n",
    "-\n",
    "/\n",
    "+\n",
    "6"
   ]
  },
  {
   "cell_type": "markdown",
   "id": "4e532e7b",
   "metadata": {},
   "source": [
    "1.Ans) * = expression\n",
    "       'hello' = value (string)\n",
    "       -87.8 = value (float)\n",
    "       - = expression\n",
    "       / = expression\n",
    "       + = expression\n",
    "       6 = value (integer)"
   ]
  },
  {
   "cell_type": "markdown",
   "id": "d41ae6d6",
   "metadata": {},
   "source": [
    "2.) What is the difference between string and variable"
   ]
  },
  {
   "cell_type": "code",
   "execution_count": null,
   "id": "2a5562d3",
   "metadata": {},
   "outputs": [],
   "source": [
    "2.Ans) String: String can be written in quotes.\n",
    "         eg : \"apple\", 'apple'\n",
    "       Variable: It is the thing in which we can store data just like a \n",
    "       container.\n",
    "         eg : A = \"apple\"\n",
    "         print(A)\n",
    "         Here A is a variable and \"apple\" is a string."
   ]
  },
  {
   "cell_type": "markdown",
   "id": "c82f034e",
   "metadata": {},
   "source": [
    "3.) Describe three different data types."
   ]
  },
  {
   "cell_type": "code",
   "execution_count": null,
   "id": "f42ac6ba",
   "metadata": {},
   "outputs": [],
   "source": [
    "\n",
    "3.Ans) Diffrernt data type are explain below :-\n",
    "       1. Integer : Integer can store only numerical values such as 10, \n",
    "       20, 34, 56 etc\n",
    "       \n",
    "       2. Float: Float can store only floating values such as 10.23, \n",
    "       24.35, 54.432, 56,87 etc.\n",
    "       \n",
    "       3. List: List is used for storing multiple data items in a single \n",
    "       variable.\n",
    "                eg : list = [\"apple\", 12345, \"banana\"]"
   ]
  },
  {
   "cell_type": "markdown",
   "id": "ef7390b5",
   "metadata": {},
   "source": [
    "4.) What is an expression made up of? What do all expressions do? "
   ]
  },
  {
   "cell_type": "code",
   "execution_count": null,
   "id": "25d69a44",
   "metadata": {},
   "outputs": [],
   "source": [
    "4.Ans) Expression is made up of - \n",
    "          1. Mathematical operators (eg: +, _, * ,/)\n",
    "          2. Values\n",
    "          3. Containers\n",
    "          eg: a = 4 + (3*4)  \n",
    "       \n",
    "       Expressions are used to evaluate the values or represent the result on the screen."
   ]
  },
  {
   "cell_type": "markdown",
   "id": "8d29a1c8",
   "metadata": {},
   "source": [
    "5.) This assignment statements, like spam=10. What is the difference between an expression and \n",
    "    a statement?"
   ]
  },
  {
   "cell_type": "markdown",
   "id": "a82c0320",
   "metadata": {},
   "source": [
    "5.Ans) Expression is made up of values, containers, and mathematical operators and the \n",
    "       statement is just like a command that a python interpreter executes like print."
   ]
  },
  {
   "cell_type": "code",
   "execution_count": null,
   "id": "265ef087",
   "metadata": {},
   "outputs": [],
   "source": [
    "6.) After running the following code, what does the variable bacon contain?\n",
    "     1. bacon = 22\n",
    "     2. bacon + 1"
   ]
  },
  {
   "cell_type": "code",
   "execution_count": 13,
   "id": "f0b2c550-166e-4146-a7f4-d42f9b80326b",
   "metadata": {},
   "outputs": [
    {
     "data": {
      "text/plain": [
       "23"
      ]
     },
     "execution_count": 13,
     "metadata": {},
     "output_type": "execute_result"
    }
   ],
   "source": [
    "# 6.Ans) After execution code it give 23 as an output.\n",
    "bacon = 22\n",
    "bacon + 1"
   ]
  },
  {
   "cell_type": "code",
   "execution_count": null,
   "id": "85ccd86c",
   "metadata": {},
   "outputs": [],
   "source": [
    "# 7.) What should the values of the following two terms be?\n",
    "\n",
    "1. 'spam' + 'spamspam'\n",
    "\n",
    "2. 'spam' * 3"
   ]
  },
  {
   "cell_type": "code",
   "execution_count": 15,
   "id": "7c0d0af1-dd4c-4ae4-95bb-9d66b22cb623",
   "metadata": {},
   "outputs": [
    {
     "data": {
      "text/plain": [
       "'spamspamspam'"
      ]
     },
     "execution_count": 15,
     "metadata": {},
     "output_type": "execute_result"
    }
   ],
   "source": [
    "# 7.Ans) 1.\n",
    "'spam' + 'spamspam'"
   ]
  },
  {
   "cell_type": "code",
   "execution_count": 16,
   "id": "e8be8c30-5056-40e5-904d-4c2a47b34d02",
   "metadata": {},
   "outputs": [
    {
     "data": {
      "text/plain": [
       "'spamspamspam'"
      ]
     },
     "execution_count": 16,
     "metadata": {},
     "output_type": "execute_result"
    }
   ],
   "source": [
    "# 7.Ans) 2.\n",
    "'spam'*3"
   ]
  },
  {
   "cell_type": "markdown",
   "id": "7d5785cd",
   "metadata": {},
   "source": [
    "8.) Why is eggs a valid variable name while 100 is invalid?"
   ]
  },
  {
   "cell_type": "markdown",
   "id": "93938ba3",
   "metadata": {},
   "source": [
    "8.Ans) 100 is invalid  variable name because we can't start giving variable an integer name. if we, we \n",
    "       should begin with, a string (alphabet) then integer. \n",
    "       eg : e100 or eggs100 is valid variable name but on the other hand 100e oe 100eggs is an invalid  \n",
    "       variable name"
   ]
  },
  {
   "cell_type": "markdown",
   "id": "fb2ea8a8",
   "metadata": {},
   "source": [
    "9.) What three functions can be used to get the integer, floating-point number, or string version of a \n",
    "    value?"
   ]
  },
  {
   "cell_type": "code",
   "execution_count": null,
   "id": "7144c72e",
   "metadata": {},
   "outputs": [],
   "source": [
    "9.Ans) Functions used to get the integer, floating and string values are -\n",
    "       int() for integer\n",
    "       str() for string\n",
    "       float() for floating-point value"
   ]
  },
  {
   "cell_type": "code",
   "execution_count": 18,
   "id": "7d3397be-28f7-4937-9424-091fc791d95d",
   "metadata": {},
   "outputs": [
    {
     "ename": "TypeError",
     "evalue": "can only concatenate str (not \"int\") to str",
     "output_type": "error",
     "traceback": [
      "\u001b[1;31m---------------------------------------------------------------------------\u001b[0m",
      "\u001b[1;31mTypeError\u001b[0m                                 Traceback (most recent call last)",
      "\u001b[1;32mC:\\Users\\NIKHIL~1\\AppData\\Local\\Temp/ipykernel_14644/3443691868.py\u001b[0m in \u001b[0;36m<module>\u001b[1;34m\u001b[0m\n\u001b[0;32m      1\u001b[0m \u001b[1;31m# 10.) Why does this expression cause an error? How can you fix it?\u001b[0m\u001b[1;33m\u001b[0m\u001b[1;33m\u001b[0m\u001b[0m\n\u001b[0;32m      2\u001b[0m \u001b[1;33m\u001b[0m\u001b[0m\n\u001b[1;32m----> 3\u001b[1;33m \u001b[1;34m'I have eaten'\u001b[0m \u001b[1;33m+\u001b[0m \u001b[1;36m99\u001b[0m \u001b[1;33m+\u001b[0m \u001b[1;34m'burritos'\u001b[0m\u001b[1;33m\u001b[0m\u001b[1;33m\u001b[0m\u001b[0m\n\u001b[0m",
      "\u001b[1;31mTypeError\u001b[0m: can only concatenate str (not \"int\") to str"
     ]
    }
   ],
   "source": [
    "# 10.) Why does this expression cause an error? How can you fix it?\n",
    "\n",
    "'I have eaten' + 99 + 'burritos' "
   ]
  },
  {
   "cell_type": "markdown",
   "id": "6b8d7c99",
   "metadata": {},
   "source": [
    "10.Ans) Above expression ('I have eaten' + 99 + 'burritos') cause an error because 99 is an integer it cannot be concatenated with strings, if we have to concatenate it we need to do typecasting."
   ]
  }
 ],
 "metadata": {
  "kernelspec": {
   "display_name": "Python 3 (ipykernel)",
   "language": "python",
   "name": "python3"
  },
  "language_info": {
   "codemirror_mode": {
    "name": "ipython",
    "version": 3
   },
   "file_extension": ".py",
   "mimetype": "text/x-python",
   "name": "python",
   "nbconvert_exporter": "python",
   "pygments_lexer": "ipython3",
   "version": "3.9.7"
  }
 },
 "nbformat": 4,
 "nbformat_minor": 5
}
