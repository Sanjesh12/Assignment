{
 "cells": [
  {
   "cell_type": "markdown",
   "id": "b46f2a63",
   "metadata": {},
   "source": [
    "# Assignment_2"
   ]
  },
  {
   "cell_type": "markdown",
   "id": "fc6aef40",
   "metadata": {},
   "source": [
    "1.) What are the two values of the boolean data types? How do you write them ?"
   ]
  },
  {
   "cell_type": "markdown",
   "id": "d8de26f5",
   "metadata": {},
   "source": [
    "1 Ans)  There are two type of boolean data type:\n",
    "       1. True , 2. False"
   ]
  },
  {
   "cell_type": "code",
   "execution_count": 5,
   "id": "bb12e211",
   "metadata": {},
   "outputs": [
    {
     "name": "stdout",
     "output_type": "stream",
     "text": [
      "True <class 'bool'>\n",
      "False <class 'bool'>\n"
     ]
    }
   ],
   "source": [
    "a = True\n",
    "b = False\n",
    "print(a,type(a))\n",
    "print(b,type(b))"
   ]
  },
  {
   "cell_type": "markdown",
   "id": "529f90ad",
   "metadata": {},
   "source": [
    "2.) What are the three different types of Boolean operators?"
   ]
  },
  {
   "cell_type": "markdown",
   "id": "2e83ba7b",
   "metadata": {},
   "source": [
    "2 Ans) Three different type of boolean operators are : and , or , not"
   ]
  },
  {
   "cell_type": "code",
   "execution_count": 8,
   "id": "974e7b6a",
   "metadata": {},
   "outputs": [
    {
     "name": "stdout",
     "output_type": "stream",
     "text": [
      "True\n",
      "True\n",
      "True\n"
     ]
    }
   ],
   "source": [
    "a = 23\n",
    "b = 56\n",
    "\n",
    "# Example of boolen 'and'\n",
    "print(a>10 and b >55)\n",
    "# Example of boolen 'or'\n",
    "print(a>45 or b>34)\n",
    "# Example of boolen 'not'\n",
    "print(not(a<22))\n"
   ]
  },
  {
   "cell_type": "markdown",
   "id": "78d1191c",
   "metadata": {},
   "source": [
    "3.) Make a list of each Boolean operator's truth tables (i.e. every possible combination of Boolean values for the operator and what it evaluate) ?"
   ]
  },
  {
   "cell_type": "code",
   "execution_count": null,
   "id": "1b05f4a8",
   "metadata": {},
   "outputs": [],
   "source": [
    "# 3 Ans) Truth table for each Boolean operator's are -\n",
    "       1. Truth table for 'and' boolean operator-\n",
    "          True and True is True\n",
    "          True and False is False\n",
    "          False and True is False\n",
    "          False and False is False\n",
    "       2. Truth table for 'or' boolean operator-     \n",
    "          True or True is True\n",
    "          True or False is True\n",
    "          False or True is True\n",
    "          False or False is False\n",
    "       3. Truth table for 'not' boolean operator-\n",
    "          True not is False\n",
    "          False not is True"
   ]
  },
  {
   "cell_type": "code",
   "execution_count": null,
   "id": "fcb1f60b",
   "metadata": {},
   "outputs": [],
   "source": [
    "4.) What are the values of the following expressions ?\n",
    "   (5 > 4) and (3 == 5)\n",
    "   not (5 > 4)\n",
    "   (5 > 4) or (3 == 5)\n",
    "   not ((5 > 4) or (3 == 5))\n",
    "   (True and True) and (True == False)\n",
    "   (not False) or (not True)"
   ]
  },
  {
   "cell_type": "code",
   "execution_count": null,
   "id": "3d6bec2e",
   "metadata": {},
   "outputs": [],
   "source": [
    " # 4 Ans\n",
    "print((5 > 4) and (3 == 5))\n",
    "print(not (5 > 4))\n",
    "print((5 > 4) or (3 == 5))\n",
    "print(not ((5 > 4) or (3 == 5)))\n",
    "print((True and True) and (True == False))\n",
    "print((not False) or (not True))"
   ]
  },
  {
   "cell_type": "markdown",
   "id": "285d9e14",
   "metadata": {},
   "source": [
    "5.) What are the six comparison operators?"
   ]
  },
  {
   "cell_type": "code",
   "execution_count": null,
   "id": "f41d6f01",
   "metadata": {},
   "outputs": [],
   "source": [
    "5 Ans) Comparison operators are -\n",
    "== is equal to\n",
    "!= is not equal to\n",
    "< is less than\n",
    "> is grater than \n",
    "<= is less than equal to\n",
    ">= is grater than equal to"
   ]
  },
  {
   "cell_type": "markdown",
   "id": "0fc5a759",
   "metadata": {},
   "source": [
    "6.) How do you tell the difference between the equal to and assignment operators?Describe a condition and when you would use one ?"
   ]
  },
  {
   "cell_type": "markdown",
   "id": "ad231a7a",
   "metadata": {},
   "source": [
    "6 Ans) == is a equal to operator which is use to compair two value, while = is a assignment operator and it is use to store value in a variable. "
   ]
  },
  {
   "cell_type": "code",
   "execution_count": 11,
   "id": "e6c6a48b",
   "metadata": {},
   "outputs": [
    {
     "name": "stdout",
     "output_type": "stream",
     "text": [
      "23\n"
     ]
    }
   ],
   "source": [
    "a = 23 # Assignment operator use to store value 23 in a variable a\n",
    "a == 23 # Equal to operator compare value of vareable a with value 23\n",
    "print(a)"
   ]
  },
  {
   "cell_type": "code",
   "execution_count": null,
   "id": "1e391170",
   "metadata": {},
   "outputs": [],
   "source": [
    "7. Identify the three blocks in this code:\n",
    "spam = 0\n",
    "if spam == 10:\n",
    "print('eggs')\n",
    "if spam > 5:\n",
    "print('bacon')\n",
    "else:\n",
    "print('ham')\n",
    "print('spam')\n",
    "print('spam')"
   ]
  },
  {
   "cell_type": "code",
   "execution_count": 19,
   "id": "34d5a6a7",
   "metadata": {},
   "outputs": [
    {
     "name": "stdout",
     "output_type": "stream",
     "text": [
      "ham\n",
      "spam\n",
      "spam\n"
     ]
    }
   ],
   "source": [
    "#7 Ans)\n",
    "spam = 0\n",
    "if spam == 10:\n",
    "    print('eggs')\n",
    "if spam > 5:\n",
    "    print('bacon')\n",
    "else:\n",
    "    print('ham')\n",
    "    print('spam')\n",
    "    print('spam')"
   ]
  },
  {
   "cell_type": "markdown",
   "id": "65d87748",
   "metadata": {},
   "source": [
    "8.) Write code that prints Hello if 1 is stored in spam, prints Howdy if 2 is stored in spam, and prints Greetings! if anything else is stored in spam.\n"
   ]
  },
  {
   "cell_type": "code",
   "execution_count": 18,
   "id": "d1e9f5b8",
   "metadata": {},
   "outputs": [
    {
     "name": "stdout",
     "output_type": "stream",
     "text": [
      "Enter integer valer :234\n",
      "Greetings!\n"
     ]
    }
   ],
   "source": [
    "#8 Ans)\n",
    "spam = int(input(\"Enter integer valer :\"))\n",
    "if spam == 1:\n",
    "    print(\"Hello\")\n",
    "elif spam == 2:\n",
    "    print(\"Howdy\")\n",
    "else :\n",
    "    print(\"Greetings!\")"
   ]
  },
  {
   "cell_type": "markdown",
   "id": "d03737b9",
   "metadata": {},
   "source": [
    "9.) If your programme is stuck in an endless loop, what keys you’ll press?"
   ]
  },
  {
   "cell_type": "markdown",
   "id": "dd2e1ce5",
   "metadata": {},
   "source": [
    "9 Ans) Press Ctrl-c to stop a program stuck in an infinite loop."
   ]
  },
  {
   "cell_type": "markdown",
   "id": "f90aa9a2",
   "metadata": {},
   "source": [
    "10) How can you tell the difference between break and continue?"
   ]
  },
  {
   "cell_type": "markdown",
   "id": "e7b264c5",
   "metadata": {},
   "source": [
    "10 Ans) The break statement will move the execution outside the loop if break condtion is satisfied. Whereas the continue \n",
    "        statement will move the execution to the start of the loop."
   ]
  },
  {
   "cell_type": "markdown",
   "id": "e7ad7b8c",
   "metadata": {},
   "source": [
    "11) In a for loop, what is the difference between range(10), range(0, 10), and range(0, 10, 1)?\n",
    "\n",
    "\n"
   ]
  },
  {
   "cell_type": "markdown",
   "id": "71b1a774",
   "metadata": {},
   "source": [
    "11 Ans) The Differences are as follows:\n",
    "\n",
    "1. The range(10) call range from 0 to 9 (but not include 10)\n",
    "2. The range (0,10) explicitly tells the loop to start at 0\n",
    "3. The range(0,10,1) explicitly tells the loop to increase the variable by 1 on each iteration"
   ]
  },
  {
   "cell_type": "markdown",
   "id": "2b636383",
   "metadata": {},
   "source": [
    "12) Write a short program that prints the numbers 1 to 10 using a for loop. Then write an equivalent program that prints the numbers 1 to 10 using a while loop ?"
   ]
  },
  {
   "cell_type": "code",
   "execution_count": 42,
   "id": "25ab3198",
   "metadata": {},
   "outputs": [
    {
     "name": "stdout",
     "output_type": "stream",
     "text": [
      "-----  using for loop  -----\n",
      "1  2  3  4  5  6  7  8  9  10  \n",
      "\n",
      "-----  using while loop  -----\n",
      "1  2  3  4  5  6  7  8  9  10  "
     ]
    }
   ],
   "source": [
    "# 12 Ans)\n",
    "print('-'*5,' using for loop ','-'*5)\n",
    "for i in range(1,11):\n",
    "    print(i, end = '  ')\n",
    "\n",
    "print('\\n')\n",
    "print('-'*5,' using while loop ','-'*5)\n",
    "i = 1\n",
    "while i<=10:\n",
    "    print(i, end = '  ')\n",
    "    i= i+1"
   ]
  },
  {
   "cell_type": "markdown",
   "id": "8b8ad28d",
   "metadata": {},
   "source": [
    "13. If you had a function named bacon() inside a module named spam, how would you call it after importing spam ?"
   ]
  },
  {
   "cell_type": "markdown",
   "id": "487d5827",
   "metadata": {},
   "source": [
    "13 Ans) This function can be called with spam.bacon()"
   ]
  }
 ],
 "metadata": {
  "kernelspec": {
   "display_name": "Python 3 (ipykernel)",
   "language": "python",
   "name": "python3"
  },
  "language_info": {
   "codemirror_mode": {
    "name": "ipython",
    "version": 3
   },
   "file_extension": ".py",
   "mimetype": "text/x-python",
   "name": "python",
   "nbconvert_exporter": "python",
   "pygments_lexer": "ipython3",
   "version": "3.9.7"
  }
 },
 "nbformat": 4,
 "nbformat_minor": 5
}
