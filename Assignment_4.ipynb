{
 "cells": [
  {
   "cell_type": "markdown",
   "id": "961a5965",
   "metadata": {},
   "source": [
    "# Assignment 4"
   ]
  },
  {
   "cell_type": "markdown",
   "id": "10ea342a",
   "metadata": {},
   "source": [
    "1) What exactly is [ ]?"
   ]
  },
  {
   "cell_type": "code",
   "execution_count": 46,
   "id": "efb366ae",
   "metadata": {},
   "outputs": [],
   "source": [
    "#1 Ans: The empty list represented by [] is a list that contains no items. This is similar to '' which represents \n",
    "#       an empty string."
   ]
  },
  {
   "cell_type": "markdown",
   "id": "4eecf262",
   "metadata": {},
   "source": [
    "2) In a list of values stored in a variable called spam, how would you assign the value 'hello' as the third value? (Assume [2, 4, 6, 8, 10] are in spam.)"
   ]
  },
  {
   "cell_type": "code",
   "execution_count": 4,
   "id": "e7736f1f",
   "metadata": {},
   "outputs": [
    {
     "name": "stdout",
     "output_type": "stream",
     "text": [
      "[2, 4, 6, 8, 10]\n",
      "[2, 4, 'hello', 8, 10]\n"
     ]
    }
   ],
   "source": [
    "# 2 Ans: \n",
    "#Here we assume list- spam=[2,4,6,8,10]\n",
    "#Let create our spam list\n",
    "\n",
    "spam = [2,4,6,8,10]\n",
    "print(spam)\n",
    "\n",
    "# Now assigning value 'hello' as the third value in spam list.\n",
    "spam[2] = \"hello\"\n",
    "print(spam)"
   ]
  },
  {
   "cell_type": "markdown",
   "id": "90e04f4b",
   "metadata": {},
   "source": [
    "Let's pretend the spam includes the list ['a','b','c',d'] for the next three queries."
   ]
  },
  {
   "cell_type": "markdown",
   "id": "1983f6f8",
   "metadata": {},
   "source": [
    "3) What is the value of spam[int(int('3'*2)//11)] ?"
   ]
  },
  {
   "cell_type": "code",
   "execution_count": 10,
   "id": "103e6f5d",
   "metadata": {},
   "outputs": [
    {
     "name": "stdout",
     "output_type": "stream",
     "text": [
      "d\n"
     ]
    }
   ],
   "source": [
    "# 3 Ans:\n",
    "spam = [\"a\",\"b\",\"c\",\"d\"]\n",
    "print(spam[int(int('3'*2)//11)])\n",
    "# here '3'*2 is string '33',which pass to int() before being divided by 11. This eventually evaluates to 3, spam[3]\n",
    "# is equal to d."
   ]
  },
  {
   "cell_type": "markdown",
   "id": "d28298bc",
   "metadata": {},
   "source": [
    "4) What is the value of spam[-1]?"
   ]
  },
  {
   "cell_type": "code",
   "execution_count": 11,
   "id": "f3dd3e4b",
   "metadata": {},
   "outputs": [
    {
     "name": "stdout",
     "output_type": "stream",
     "text": [
      "d\n"
     ]
    }
   ],
   "source": [
    "# 4 Ans\n",
    "spam = [\"a\",\"b\",\"c\",\"d\"]\n",
    "print(spam[-1]) # spam[-1] returs 'd'."
   ]
  },
  {
   "cell_type": "markdown",
   "id": "06e7f590",
   "metadata": {},
   "source": [
    "5) What is the value of spam[:2]?"
   ]
  },
  {
   "cell_type": "code",
   "execution_count": 12,
   "id": "105f3602",
   "metadata": {},
   "outputs": [
    {
     "name": "stdout",
     "output_type": "stream",
     "text": [
      "['a', 'b']\n"
     ]
    }
   ],
   "source": [
    "# 5 Ans\n",
    "spam = [\"a\",\"b\",\"c\",\"d\"]\n",
    "print(spam[:2]) \n",
    "# It will return all value fron 0 to 2 excluding 2."
   ]
  },
  {
   "cell_type": "markdown",
   "id": "b140866e",
   "metadata": {},
   "source": [
    "Let's pretend bacon has the list [3.14,'cat',11,'cat',True] for the next three question"
   ]
  },
  {
   "cell_type": "markdown",
   "id": "c8cc9d3b",
   "metadata": {},
   "source": [
    "6) What is the value of bacon.index('cat')?"
   ]
  },
  {
   "cell_type": "code",
   "execution_count": 14,
   "id": "c8ebd299",
   "metadata": {},
   "outputs": [
    {
     "data": {
      "text/plain": [
       "1"
      ]
     },
     "execution_count": 14,
     "metadata": {},
     "output_type": "execute_result"
    }
   ],
   "source": [
    "# 6 Ans - Value of bacon.index('cat') is 1.\n",
    "bacon = [3.14,'cat',11,'cat',True]\n",
    "bacon.index('cat')"
   ]
  },
  {
   "cell_type": "markdown",
   "id": "5a8d81e3",
   "metadata": {},
   "source": [
    "7) How does bacon.append(99) change the look of the list value in bacon?"
   ]
  },
  {
   "cell_type": "code",
   "execution_count": 18,
   "id": "0f9947d4",
   "metadata": {},
   "outputs": [
    {
     "name": "stdout",
     "output_type": "stream",
     "text": [
      "[3.14, 'cat', 11, 'cat', True, 99]\n"
     ]
    }
   ],
   "source": [
    "# 7 Ans - bacon.append(99) add new element 99 at the end.\n",
    "bacon = [3.14,'cat',11,'cat',True]\n",
    "bacon.append(99)\n",
    "print(bacon)"
   ]
  },
  {
   "cell_type": "markdown",
   "id": "69567ece",
   "metadata": {},
   "source": [
    "8) How does bacon.remove('cat') change the look of the list in bacon?"
   ]
  },
  {
   "cell_type": "code",
   "execution_count": 20,
   "id": "d04625f4",
   "metadata": {},
   "outputs": [
    {
     "name": "stdout",
     "output_type": "stream",
     "text": [
      "[3.14, 11, 'cat', True]\n"
     ]
    }
   ],
   "source": [
    "# 8 Ans - bacon.remove('cat') remove the first occutrnce of the element in the list. \n",
    "bacon = [3.14,'cat',11,'cat',True]\n",
    "bacon.remove('cat')\n",
    "print(bacon)"
   ]
  },
  {
   "cell_type": "markdown",
   "id": "b2b8f42c",
   "metadata": {},
   "source": [
    "9.what are the list concatenation and list replication operations?"
   ]
  },
  {
   "cell_type": "code",
   "execution_count": 23,
   "id": "c3fb4664",
   "metadata": {},
   "outputs": [
    {
     "name": "stdout",
     "output_type": "stream",
     "text": [
      "[1, 2, 3, 4, 5, 6, 7, 8]\n",
      "[1, 2, 3, 4, 1, 2, 3, 4]\n"
     ]
    }
   ],
   "source": [
    "# 9 Ans -  The operator for list concatenation is +, while the operator for replication is *. \n",
    "lst_1 = [1,2,3,4]\n",
    "lst_2 = [5,6,7,8]\n",
    "\n",
    "# List Concatenation\n",
    "print(lst_1 + lst_2)\n",
    "\n",
    "# List Replication\n",
    "print(lst_1 * 2)"
   ]
  },
  {
   "cell_type": "markdown",
   "id": "8610d3eb",
   "metadata": {},
   "source": [
    "10) what is the difference between the list method append() and insert()?"
   ]
  },
  {
   "cell_type": "code",
   "execution_count": 30,
   "id": "582bb4f6",
   "metadata": {},
   "outputs": [
    {
     "name": "stdout",
     "output_type": "stream",
     "text": [
      "[1, 2, 3, 4, 8]\n",
      "[5, 6, 9, 7, 8]\n"
     ]
    }
   ],
   "source": [
    "#10 Ans -\n",
    "lst_1 = [1,2,3,4]\n",
    "lst_1.append(8)\n",
    "print(lst_1)\n",
    "\n",
    "lst_2 = [5,6,7,8]\n",
    "lst_2.insert(2,9)\n",
    "print(lst_2)"
   ]
  },
  {
   "cell_type": "markdown",
   "id": "97f504e7",
   "metadata": {},
   "source": [
    "11) What are the two methods for removing items from a list?"
   ]
  },
  {
   "cell_type": "code",
   "execution_count": 41,
   "id": "7bc42833",
   "metadata": {},
   "outputs": [
    {
     "name": "stdout",
     "output_type": "stream",
     "text": [
      "[1, 2, 4]\n",
      "[5, 6, 8]\n"
     ]
    }
   ],
   "source": [
    "# 11 Ans: The del statement and the remove() method are two ways to remove values from a list\n",
    "lst_1 = [1,2,3,4]\n",
    "del lst_1[2]\n",
    "print(lst_1)\n",
    "\n",
    "lst_2 = [5,6,7,8]\n",
    "lst_2.remove(7)\n",
    "print(lst_2)\n"
   ]
  },
  {
   "cell_type": "markdown",
   "id": "fc315e63",
   "metadata": {},
   "source": [
    "12) Describe how list values and string values are identical."
   ]
  },
  {
   "cell_type": "code",
   "execution_count": 45,
   "id": "9429b1d5",
   "metadata": {},
   "outputs": [],
   "source": [
    "#12 Ans: Both lists and strings can be passed to len() function, have indexes and slices, be used in for loops, be \n",
    "#        concatenated or replicated, and be used with the in and not in operators."
   ]
  },
  {
   "cell_type": "markdown",
   "id": "08acefbb",
   "metadata": {},
   "source": [
    "13) What's the difference between tuples and lists?"
   ]
  },
  {
   "cell_type": "code",
   "execution_count": 44,
   "id": "bc144fe9",
   "metadata": {},
   "outputs": [],
   "source": [
    "# 13 Ans: The key difference between the tuples and lists is that while the tuples are immutable objects the lists \n",
    "#         are mutable. This means that tuples cannot be changed while the lists can be modified."
   ]
  },
  {
   "cell_type": "markdown",
   "id": "27667f05",
   "metadata": {},
   "source": [
    "14) How do you type a tuple value that only contains the integer 42?"
   ]
  },
  {
   "cell_type": "code",
   "execution_count": 42,
   "id": "bb1c3ece",
   "metadata": {},
   "outputs": [
    {
     "name": "stdout",
     "output_type": "stream",
     "text": [
      "<class 'int'>\n",
      "<class 'int'>\n"
     ]
    }
   ],
   "source": [
    "# 14 Ans\n",
    "tup_1 = (42)\n",
    "tup_2 = (42)\n",
    "print(type(tup_1))\n",
    "print(type(tup_2))"
   ]
  },
  {
   "cell_type": "markdown",
   "id": "bf61c0da",
   "metadata": {},
   "source": [
    "15) How do you get a list value's tuple form? How do you get a tuple value's list form?"
   ]
  },
  {
   "cell_type": "code",
   "execution_count": 43,
   "id": "129a870e",
   "metadata": {},
   "outputs": [],
   "source": [
    "# 15 Ans: The tuple() and list() functions, respectively are used to convert a list to tuple and vice versa"
   ]
  },
  {
   "cell_type": "markdown",
   "id": "b7e3c02d",
   "metadata": {},
   "source": [
    "16) Variables that \"contain\" list values are not necessarily lists themselves. Instead, what do they contain?"
   ]
  },
  {
   "cell_type": "code",
   "execution_count": 47,
   "id": "71a9f93f",
   "metadata": {},
   "outputs": [],
   "source": [
    "#16 Ans: They contain references to list values."
   ]
  },
  {
   "cell_type": "markdown",
   "id": "177ae461",
   "metadata": {},
   "source": [
    "17) How do you distinguish between copy.copy() and copy.deepcopy()?"
   ]
  },
  {
   "cell_type": "code",
   "execution_count": 48,
   "id": "9cba8fee",
   "metadata": {},
   "outputs": [],
   "source": [
    "# 17 Ans: The copy.copy() function will do a shallow copy of a list, while the copy.deepcopy() function will do a deep\n",
    "#         copy of a list. That is, only copy.deepcopy() will duplicate any lists inside the list."
   ]
  }
 ],
 "metadata": {
  "kernelspec": {
   "display_name": "Python 3 (ipykernel)",
   "language": "python",
   "name": "python3"
  },
  "language_info": {
   "codemirror_mode": {
    "name": "ipython",
    "version": 3
   },
   "file_extension": ".py",
   "mimetype": "text/x-python",
   "name": "python",
   "nbconvert_exporter": "python",
   "pygments_lexer": "ipython3",
   "version": "3.9.7"
  }
 },
 "nbformat": 4,
 "nbformat_minor": 5
}
