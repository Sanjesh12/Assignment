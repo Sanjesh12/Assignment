{
 "cells": [
  {
   "cell_type": "markdown",
   "id": "627fdab0",
   "metadata": {},
   "source": [
    "# Assignment 6"
   ]
  },
  {
   "cell_type": "markdown",
   "id": "ce6045a7",
   "metadata": {},
   "source": [
    "1. What are escape characters, and how do you use them?"
   ]
  },
  {
   "cell_type": "code",
   "execution_count": 1,
   "id": "c2c7581f",
   "metadata": {},
   "outputs": [],
   "source": [
    "# 1 Ans: In Python strings, the backslash \"\\\" is a special character, also called the \n",
    "#        “escape” character. It is used in representing certain whitespace characters: \n",
    "#        “\\t” is a tab, “\\n” is a new line, and “\\r” is a carriage return. "
   ]
  },
  {
   "cell_type": "markdown",
   "id": "40fc0a9e",
   "metadata": {},
   "source": [
    "2. What do the escape characters n and t stand for ?"
   ]
  },
  {
   "cell_type": "code",
   "execution_count": 7,
   "id": "39a7b593",
   "metadata": {},
   "outputs": [],
   "source": [
    "# 2 Ans: \\n is a newline, \\t is a tab"
   ]
  },
  {
   "cell_type": "markdown",
   "id": "3ae3edd2",
   "metadata": {},
   "source": [
    "3. What is the way to include backslash character in a string?"
   ]
  },
  {
   "cell_type": "code",
   "execution_count": 2,
   "id": "d844ea65",
   "metadata": {},
   "outputs": [],
   "source": [
    "# 3 Ans:  The \\\\ escape character will represent the backslash character in a string"
   ]
  },
  {
   "cell_type": "markdown",
   "id": "a0729a62",
   "metadata": {},
   "source": [
    "4.The string \"Howl's Moving Castle\" is a correct value. Why isn't the single quote character in the word Howl's not escaped a problem ?"
   ]
  },
  {
   "cell_type": "code",
   "execution_count": 6,
   "id": "dd176b5c",
   "metadata": {},
   "outputs": [
    {
     "name": "stdout",
     "output_type": "stream",
     "text": [
      "Howl's Moving Castle\n"
     ]
    }
   ],
   "source": [
    "# 4 Ans: The string \"Howl's Moving Castle\" escaped the problem because it is wrapped inside \n",
    "#        double quotes. If its wrapped inside single quotes then we have to use escape \n",
    "#        character \\' to show single quote in the final output\n",
    "\n",
    "a = 'Howl\\'s Moving Castle'\n",
    "print(a)\n",
    "\n"
   ]
  },
  {
   "cell_type": "markdown",
   "id": "f09b2ae2",
   "metadata": {},
   "source": [
    "5.How do you write a string of newlines if you don't want to use the n character?"
   ]
  },
  {
   "cell_type": "code",
   "execution_count": 9,
   "id": "fe5acc4e",
   "metadata": {},
   "outputs": [
    {
     "name": "stdout",
     "output_type": "stream",
     "text": [
      "iNeuron Full Stack\n",
      "Date Science Cource\n",
      "Basic Python\n",
      "Assignment 6\n"
     ]
    }
   ],
   "source": [
    "# 5 Ans\n",
    "\n",
    "b = '''iNeuron Full Stack\n",
    "Date Science Cource\n",
    "Basic Python\n",
    "Assignment 6'''\n",
    "\n",
    "print(b)"
   ]
  },
  {
   "cell_type": "markdown",
   "id": "4e9cb2bf",
   "metadata": {},
   "source": [
    "6.What are the values of the given expressions ?"
   ]
  },
  {
   "cell_type": "code",
   "execution_count": 10,
   "id": "e8a20c1e",
   "metadata": {},
   "outputs": [],
   "source": [
    "# 6 Ans:\n",
    "\n",
    "#  Expressions         =  'Values'\n",
    "# 'Hello, world!'[1]   =  'e'\n",
    "# 'Hello, world!'[0:5] =  'Hello' \n",
    "# 'Hello, world!'[:5]  =  'Hello'\n",
    "# 'Hello, world!'[3:]  =  'lo,world'"
   ]
  },
  {
   "cell_type": "markdown",
   "id": "8774542d",
   "metadata": {},
   "source": [
    "7.What are the values of the following expressions ?"
   ]
  },
  {
   "cell_type": "code",
   "execution_count": 14,
   "id": "90414f8b",
   "metadata": {},
   "outputs": [
    {
     "name": "stdout",
     "output_type": "stream",
     "text": [
      "HELLO\n",
      "True\n",
      "hello\n"
     ]
    }
   ],
   "source": [
    "# 7 Ans:\n",
    "\n",
    "# Expressions         \n",
    "# 'Hello'.upper()\n",
    "# 'Hello'.upper().isupper()\n",
    "# 'Hello'.upper().lower()\n",
    "\n",
    "print('Hello'.upper())\n",
    "print('Hello'.upper().isupper())\n",
    "print('Hello'.upper().lower())"
   ]
  },
  {
   "cell_type": "markdown",
   "id": "eaff814e",
   "metadata": {},
   "source": [
    "8.What are the values of the following expressions ?"
   ]
  },
  {
   "cell_type": "code",
   "execution_count": 19,
   "id": "aca97886",
   "metadata": {},
   "outputs": [
    {
     "name": "stdout",
     "output_type": "stream",
     "text": [
      "['Remember,', 'remember,', 'the', 'fifith', 'of', 'July.']\n",
      "There-can-only-one\n"
     ]
    }
   ],
   "source": [
    "# 8 Ans:\n",
    "\n",
    "# Expressions \n",
    "# 'Remember',remember,the fifith of july.'.split()\n",
    "# -'.join('There can only one'.split())\n",
    "\n",
    "a = 'Remember, remember, the fifith of July.'.split()\n",
    "print(a)\n",
    "\n",
    "b = '-'.join('There can only one'.split())\n",
    "print(b)"
   ]
  },
  {
   "cell_type": "markdown",
   "id": "fd75d0b3",
   "metadata": {},
   "source": [
    "9.What are the methods for right-justifying, left-justifying and centering a string ?"
   ]
  },
  {
   "cell_type": "code",
   "execution_count": 20,
   "id": "30812e96",
   "metadata": {},
   "outputs": [],
   "source": [
    "# 9 Ans: The rjust(),ljust(),center() string methods, respectively"
   ]
  },
  {
   "cell_type": "markdown",
   "id": "b40f609e",
   "metadata": {},
   "source": [
    "10.What is the best way to remove whitespace characters from the start or end ?"
   ]
  },
  {
   "cell_type": "code",
   "execution_count": 21,
   "id": "19ef3684",
   "metadata": {},
   "outputs": [],
   "source": [
    "# 10 Ans: String.Trim() removes all whitespace from the beginning and end of a string."
   ]
  }
 ],
 "metadata": {
  "kernelspec": {
   "display_name": "Python 3 (ipykernel)",
   "language": "python",
   "name": "python3"
  },
  "language_info": {
   "codemirror_mode": {
    "name": "ipython",
    "version": 3
   },
   "file_extension": ".py",
   "mimetype": "text/x-python",
   "name": "python",
   "nbconvert_exporter": "python",
   "pygments_lexer": "ipython3",
   "version": "3.9.7"
  }
 },
 "nbformat": 4,
 "nbformat_minor": 5
}
