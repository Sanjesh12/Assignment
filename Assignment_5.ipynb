{
 "cells": [
  {
   "cell_type": "markdown",
   "id": "6cbd9e72",
   "metadata": {},
   "source": [
    "# Assignment 5"
   ]
  },
  {
   "cell_type": "markdown",
   "id": "8c9b132c",
   "metadata": {},
   "source": [
    "1. What does an empty dictionary&#39;s code look like?"
   ]
  },
  {
   "cell_type": "code",
   "execution_count": null,
   "id": "822372c9",
   "metadata": {},
   "outputs": [],
   "source": [
    "# 1 Ans: An empty dictionary is represented by two empty curly brackets-\n",
    "#       (1) d = {} \n",
    "#       (2) d = dict()"
   ]
  },
  {
   "cell_type": "markdown",
   "id": "66773742",
   "metadata": {},
   "source": [
    "2. what is the value of dictionary value with key 'foo' and the value 42 ?"
   ]
  },
  {
   "cell_type": "code",
   "execution_count": null,
   "id": "f8604075",
   "metadata": {},
   "outputs": [],
   "source": [
    "# 2 Ans: The value of dictionary with key 'foo' and the value 42 is\n",
    "        {'foo':42}"
   ]
  },
  {
   "cell_type": "markdown",
   "id": "5c351694",
   "metadata": {},
   "source": [
    "3. What is the most significant distinction between a dictionary and a list?"
   ]
  },
  {
   "cell_type": "code",
   "execution_count": 3,
   "id": "dc5dfef0",
   "metadata": {},
   "outputs": [],
   "source": [
    "# 3 Ans: Difference between a dictionary and a list are as follows - \n",
    "#    (1) Dictionaries are represented by {} where as listed are represented by []\n",
    "#    (2) The Items stored in a dictionary are Unordered ,while the items in a list are ordered"
   ]
  },
  {
   "cell_type": "markdown",
   "id": "651279e0",
   "metadata": {},
   "source": [
    "4. What happens if you try to access spam['foo'] if spam is {'bar': 100}?"
   ]
  },
  {
   "cell_type": "code",
   "execution_count": 4,
   "id": "dbcb1c62",
   "metadata": {},
   "outputs": [],
   "source": [
    "# 4 Ans: If we try to access spam['foo'] if spam is {'bar': 100} then we will get \n",
    "# KeyError error."
   ]
  },
  {
   "cell_type": "markdown",
   "id": "223875ba",
   "metadata": {},
   "source": [
    "5. If a dictionary is stored in spam, what is the difference between the expressions 'cat' in spam and 'cat' in spam.keys() ?"
   ]
  },
  {
   "cell_type": "code",
   "execution_count": 5,
   "id": "3ef77534",
   "metadata": {},
   "outputs": [],
   "source": [
    "# 5 Ans: There is no difference. The operator checks whether a value exits as a key in the \n",
    "#        dictionary or not. "
   ]
  },
  {
   "cell_type": "markdown",
   "id": "763f9246",
   "metadata": {},
   "source": [
    "6. If a dictionary is stored in spam, what is the difference between the expressions 'cat' in spam and 'cat' in spam.values() ?"
   ]
  },
  {
   "cell_type": "code",
   "execution_count": 6,
   "id": "65d9d8d8",
   "metadata": {},
   "outputs": [],
   "source": [
    "# 6 Ans:'cat' in spam checks whether there is a 'cat' key in the dictionary, while 'cat' in \n",
    "#       spam.values() checks whether there is a value 'cat' for one of the keys in spam."
   ]
  },
  {
   "cell_type": "markdown",
   "id": "f9a3b6f0",
   "metadata": {},
   "source": [
    "7. What is a shortcut for the following code ?"
   ]
  },
  {
   "cell_type": "code",
   "execution_count": null,
   "id": "7cd037b5",
   "metadata": {},
   "outputs": [],
   "source": [
    "if 'color' not in spam:\n",
    "    spam['color'] ='black'"
   ]
  },
  {
   "cell_type": "code",
   "execution_count": null,
   "id": "6c576ffa",
   "metadata": {},
   "outputs": [],
   "source": [
    "# 7 Ans: Shortcut for the above code -\n",
    "spam.setdefault('color','black')"
   ]
  },
  {
   "cell_type": "markdown",
   "id": "ceba30c4",
   "metadata": {},
   "source": [
    "8.How do you 'pretty print' dictionary values using which modules and function ?"
   ]
  },
  {
   "cell_type": "code",
   "execution_count": 19,
   "id": "35200ae1",
   "metadata": {},
   "outputs": [
    {
     "name": "stdout",
     "output_type": "stream",
     "text": [
      "Printing using print() function\n",
      "[{'Name': 'John',\n",
      "  'Age': '23',\n",
      "  'Residence': {'Country': 'USA', 'City': 'New York'}},\n",
      " {'Name': 'Jose',\n",
      "  'Age': '44',\n",
      "  'Residence': {'Country': 'Spain', 'City': 'Madrid'}},\n",
      " {'Name': 'Anne',\n",
      "  'Age': '29',\n",
      "  'Residence': {'Country': 'UK', 'City': 'England'}},\n",
      " {'Name': 'Lee',\n",
      "  'Age': '35',\n",
      "  'Residence': {'Country': 'Japan', 'City': 'Osaka'}}]\n"
     ]
    }
   ],
   "source": [
    "# 8 Ans:\n",
    "a = [\n",
    "  {'Name': 'John', 'Age': '23', 'Residence': {'Country':'USA', 'City': 'New York'}},\n",
    "  {'Name': 'Jose', 'Age': '44', 'Residence': {'Country':'Spain', 'City': 'Madrid'}},\n",
    "  {'Name': 'Anne', 'Age': '29', 'Residence': {'Country':'UK', 'City': 'England'}},\n",
    "  {'Name': 'Lee', 'Age': '35', 'Residence': {'Country':'Japan', 'City': 'Osaka'}}\n",
    "]\n",
    "\n",
    "from pprint import pp\n",
    "print('Printing using print() function')\n",
    "pp(a )\n",
    "\n"
   ]
  }
 ],
 "metadata": {
  "kernelspec": {
   "display_name": "Python 3 (ipykernel)",
   "language": "python",
   "name": "python3"
  },
  "language_info": {
   "codemirror_mode": {
    "name": "ipython",
    "version": 3
   },
   "file_extension": ".py",
   "mimetype": "text/x-python",
   "name": "python",
   "nbconvert_exporter": "python",
   "pygments_lexer": "ipython3",
   "version": "3.9.7"
  }
 },
 "nbformat": 4,
 "nbformat_minor": 5
}
